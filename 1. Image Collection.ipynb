{
 "cells": [
  {
   "cell_type": "markdown",
   "metadata": {},
   "source": [
    "# 1. Import Dependencies"
   ]
  },
  {
   "cell_type": "code",
   "execution_count": 3,
   "metadata": {},
   "outputs": [
    {
     "name": "stdout",
     "output_type": "stream",
     "text": [
      "Requirement already satisfied: opencv-python in c:\\users\\alan\\documents\\repos\\tensorflow object detection\\tfodcourse\\tfod\\lib\\site-packages (4.7.0.72)\n",
      "Requirement already satisfied: numpy>=1.21.2 in c:\\users\\alan\\documents\\repos\\tensorflow object detection\\tfodcourse\\tfod\\lib\\site-packages (from opencv-python) (1.24.3)\n"
     ]
    }
   ],
   "source": [
    "!pip install opencv-python"
   ]
  },
  {
   "cell_type": "code",
   "execution_count": 4,
   "metadata": {},
   "outputs": [],
   "source": [
    "# Import opencv\n",
    "import cv2 \n",
    "\n",
    "# Import uuid\n",
    "import uuid\n",
    "\n",
    "# Import Operating System\n",
    "import os\n",
    "\n",
    "# Import time\n",
    "import time"
   ]
  },
  {
   "cell_type": "markdown",
   "metadata": {},
   "source": [
    "# 2. Define Images to Collect"
   ]
  },
  {
   "cell_type": "code",
   "execution_count": 8,
   "metadata": {},
   "outputs": [],
   "source": [
    "labels = ['thumbsup', 'thumbsdown', 'thankyou', 'livelong']\n",
    "number_imgs = 5"
   ]
  },
  {
   "cell_type": "markdown",
   "metadata": {},
   "source": [
    "# 3. Setup Folders "
   ]
  },
  {
   "cell_type": "code",
   "execution_count": 9,
   "metadata": {},
   "outputs": [],
   "source": [
    "IMAGES_PATH = os.path.join('Tensorflow', 'workspace', 'images', 'collectedimages')"
   ]
  },
  {
   "cell_type": "code",
   "execution_count": 10,
   "metadata": {
    "scrolled": true
   },
   "outputs": [
    {
     "data": {
      "text/plain": [
       "'nt'"
      ]
     },
     "execution_count": 10,
     "metadata": {},
     "output_type": "execute_result"
    }
   ],
   "source": [
    "# Linux based operating system = posix\n",
    "# Windows based operating system = nt\n",
    "#os.name"
   ]
  },
  {
   "cell_type": "code",
   "execution_count": 11,
   "metadata": {},
   "outputs": [],
   "source": [
    "if not os.path.exists(IMAGES_PATH):\n",
    "    if os.name == 'posix':\n",
    "        !mkdir -p {IMAGES_PATH}\n",
    "    if os.name == 'nt':\n",
    "         !mkdir {IMAGES_PATH}\n",
    "for label in labels:\n",
    "    path = os.path.join(IMAGES_PATH, label)\n",
    "    if not os.path.exists(path):\n",
    "        !mkdir {path}"
   ]
  },
  {
   "cell_type": "markdown",
   "metadata": {},
   "source": [
    "# 4. Capture Images"
   ]
  },
  {
   "cell_type": "code",
   "execution_count": null,
   "metadata": {},
   "outputs": [
    {
     "name": "stdout",
     "output_type": "stream",
     "text": [
      "Collecting images for thumbsup\n",
      "Collecting image 0\n",
      "Collecting image 1\n",
      "Collecting image 2\n",
      "Collecting image 3\n",
      "Collecting image 4\n",
      "Collecting images for thumbsdown\n",
      "Collecting image 0\n",
      "Collecting images for thankyou\n",
      "Collecting image 0\n"
     ]
    }
   ],
   "source": [
    "for label in labels:\n",
    "    cap = cv2.VideoCapture(0)\n",
    "    print('Collecting images for {}'.format(label))\n",
    "    time.sleep(5)\n",
    "    for imgnum in range(number_imgs):\n",
    "        print('Collecting image {}'.format(imgnum))\n",
    "        ret, frame = cap.read()\n",
    "        imgname = os.path.join(IMAGES_PATH,label,label+'.'+'{}.jpg'.format(str(uuid.uuid1())))\n",
    "        cv2.imwrite(imgname, frame)\n",
    "        cv2.imshow('frame', frame)\n",
    "        time.sleep(2)\n",
    "\n",
    "        if cv2.waitKey(1) & 0xFF == ord('q'):\n",
    "            break\n",
    "cap.release()\n",
    "cv2.destroyAllWindows()"
   ]
  },
  {
   "cell_type": "markdown",
   "metadata": {},
   "source": [
    "# 5. Image Labelling"
   ]
  },
  {
   "cell_type": "code",
   "execution_count": 1,
   "metadata": {},
   "outputs": [
    {
     "name": "stdout",
     "output_type": "stream",
     "text": [
      "Collecting pyqt5\n",
      "  Downloading PyQt5-5.15.9-cp37-abi3-win_amd64.whl (6.8 MB)\n",
      "                                              0.0/6.8 MB ? eta -:--:--\n",
      "     ----------                               1.7/6.8 MB 55.5 MB/s eta 0:00:01\n",
      "     ---------------------------------------  6.8/6.8 MB 108.4 MB/s eta 0:00:01\n",
      "     ---------------------------------------- 6.8/6.8 MB 72.7 MB/s eta 0:00:00\n",
      "Collecting lxml\n",
      "  Downloading lxml-4.9.2-cp310-cp310-win_amd64.whl (3.8 MB)\n",
      "                                              0.0/3.8 MB ? eta -:--:--\n",
      "     ---------------------------------------  3.8/3.8 MB 121.2 MB/s eta 0:00:01\n",
      "     ---------------------------------------- 3.8/3.8 MB 80.1 MB/s eta 0:00:00\n",
      "Collecting PyQt5-sip<13,>=12.11 (from pyqt5)\n",
      "  Downloading PyQt5_sip-12.12.1-cp310-cp310-win_amd64.whl (78 kB)\n",
      "                                              0.0/78.4 kB ? eta -:--:--\n",
      "     ---------------------------------------- 78.4/78.4 kB ? eta 0:00:00\n",
      "Collecting PyQt5-Qt5>=5.15.2 (from pyqt5)\n",
      "  Downloading PyQt5_Qt5-5.15.2-py3-none-win_amd64.whl (50.1 MB)\n",
      "                                              0.0/50.1 MB ? eta -:--:--\n",
      "     ----                                    5.5/50.1 MB 116.6 MB/s eta 0:00:01\n",
      "     --------                               10.9/50.1 MB 129.5 MB/s eta 0:00:01\n",
      "     ------------                           16.4/50.1 MB 131.2 MB/s eta 0:00:01\n",
      "     ----------------                       21.8/50.1 MB 131.2 MB/s eta 0:00:01\n",
      "     --------------------                   27.3/50.1 MB 131.2 MB/s eta 0:00:01\n",
      "     ------------------------               32.6/50.1 MB 131.2 MB/s eta 0:00:01\n",
      "     ----------------------------           38.1/50.1 MB 131.2 MB/s eta 0:00:01\n",
      "     --------------------------------       43.3/50.1 MB 131.2 MB/s eta 0:00:01\n",
      "     ------------------------------------   48.7/50.1 MB 131.2 MB/s eta 0:00:01\n",
      "     -------------------------------------  50.1/50.1 MB 110.0 MB/s eta 0:00:01\n",
      "     -------------------------------------  50.1/50.1 MB 110.0 MB/s eta 0:00:01\n",
      "     --------------------------------------- 50.1/50.1 MB 54.7 MB/s eta 0:00:00\n",
      "Installing collected packages: PyQt5-Qt5, PyQt5-sip, lxml, pyqt5\n",
      "Successfully installed PyQt5-Qt5-5.15.2 PyQt5-sip-12.12.1 lxml-4.9.2 pyqt5-5.15.9\n"
     ]
    }
   ],
   "source": [
    "!pip install --upgrade pyqt5 lxml"
   ]
  },
  {
   "cell_type": "code",
   "execution_count": 5,
   "metadata": {},
   "outputs": [],
   "source": [
    "LABELIMG_PATH = os.path.join('Tensorflow', 'labelimg')"
   ]
  },
  {
   "cell_type": "code",
   "execution_count": 6,
   "metadata": {
    "scrolled": true
   },
   "outputs": [
    {
     "name": "stderr",
     "output_type": "stream",
     "text": [
      "Cloning into 'Tensorflow\\labelimg'...\n"
     ]
    }
   ],
   "source": [
    "if not os.path.exists(LABELIMG_PATH):\n",
    "    !mkdir {LABELIMG_PATH}\n",
    "    !git clone https://github.com/tzutalin/labelImg {LABELIMG_PATH}"
   ]
  },
  {
   "cell_type": "code",
   "execution_count": 7,
   "metadata": {},
   "outputs": [],
   "source": [
    "if os.name == 'posix':\n",
    "    !cd {LABELIMG_PATH} && make qt5py3\n",
    "if os.name =='nt':\n",
    "    !cd {LABELIMG_PATH} && pyrcc5 -o libs/resources.py resources.qrc"
   ]
  },
  {
   "cell_type": "code",
   "execution_count": 8,
   "metadata": {},
   "outputs": [
    {
     "name": "stdout",
     "output_type": "stream",
     "text": [
      "Cancel creation.\n",
      "Image:C:\\Users\\Alan\\Documents\\repos\\Tensorflow Object Detection\\TFODCourse\\Tensorflow\\workspace\\images\\collectedimages\\livelong\\livelong.0a5f1088-f4ca-11ed-a5e1-18c04d2fcbb0.jpg -> Annotation:C:/Users/Alan/Documents/repos/Tensorflow Object Detection/TFODCourse/Tensorflow/workspace/images/collectedimages\\livelong.0a5f1088-f4ca-11ed-a5e1-18c04d2fcbb0.xml\n",
      "Image:C:\\Users\\Alan\\Documents\\repos\\Tensorflow Object Detection\\TFODCourse\\Tensorflow\\workspace\\images\\collectedimages\\livelong\\livelong.0b94b334-f4ca-11ed-99ff-18c04d2fcbb0.jpg -> Annotation:C:/Users/Alan/Documents/repos/Tensorflow Object Detection/TFODCourse/Tensorflow/workspace/images/collectedimages\\livelong.0b94b334-f4ca-11ed-99ff-18c04d2fcbb0.xml\n",
      "Image:C:\\Users\\Alan\\Documents\\repos\\Tensorflow Object Detection\\TFODCourse\\Tensorflow\\workspace\\images\\collectedimages\\livelong\\livelong.0cca5d80-f4ca-11ed-8acf-18c04d2fcbb0.jpg -> Annotation:C:/Users/Alan/Documents/repos/Tensorflow Object Detection/TFODCourse/Tensorflow/workspace/images/collectedimages\\livelong.0cca5d80-f4ca-11ed-8acf-18c04d2fcbb0.xml\n",
      "Image:C:\\Users\\Alan\\Documents\\repos\\Tensorflow Object Detection\\TFODCourse\\Tensorflow\\workspace\\images\\collectedimages\\livelong\\livelong.0e038f0f-f4ca-11ed-98fe-18c04d2fcbb0.jpg -> Annotation:C:/Users/Alan/Documents/repos/Tensorflow Object Detection/TFODCourse/Tensorflow/workspace/images/collectedimages\\livelong.0e038f0f-f4ca-11ed-98fe-18c04d2fcbb0.xml\n",
      "Image:C:\\Users\\Alan\\Documents\\repos\\Tensorflow Object Detection\\TFODCourse\\Tensorflow\\workspace\\images\\collectedimages\\livelong\\livelong.0f388848-f4ca-11ed-9ca0-18c04d2fcbb0.jpg -> Annotation:C:/Users/Alan/Documents/repos/Tensorflow Object Detection/TFODCourse/Tensorflow/workspace/images/collectedimages\\livelong.0f388848-f4ca-11ed-9ca0-18c04d2fcbb0.xml\n",
      "Cancel creation.\n",
      "Image:C:\\Users\\Alan\\Documents\\repos\\Tensorflow Object Detection\\TFODCourse\\Tensorflow\\workspace\\images\\collectedimages\\thankyou\\thankyou.00374062-f4ca-11ed-9634-18c04d2fcbb0.jpg -> Annotation:C:/Users/Alan/Documents/repos/Tensorflow Object Detection/TFODCourse/Tensorflow/workspace/images/collectedimages/thankyou\\thankyou.00374062-f4ca-11ed-9634-18c04d2fcbb0.xml\n",
      "Image:C:\\Users\\Alan\\Documents\\repos\\Tensorflow Object Detection\\TFODCourse\\Tensorflow\\workspace\\images\\collectedimages\\thankyou\\thankyou.fb6310c4-f4c9-11ed-90a3-18c04d2fcbb0.jpg -> Annotation:C:/Users/Alan/Documents/repos/Tensorflow Object Detection/TFODCourse/Tensorflow/workspace/images/collectedimages/thankyou\\thankyou.fb6310c4-f4c9-11ed-90a3-18c04d2fcbb0.xml\n",
      "Image:C:\\Users\\Alan\\Documents\\repos\\Tensorflow Object Detection\\TFODCourse\\Tensorflow\\workspace\\images\\collectedimages\\thankyou\\thankyou.fc96f129-f4c9-11ed-a13c-18c04d2fcbb0.jpg -> Annotation:C:/Users/Alan/Documents/repos/Tensorflow Object Detection/TFODCourse/Tensorflow/workspace/images/collectedimages/thankyou\\thankyou.fc96f129-f4c9-11ed-a13c-18c04d2fcbb0.xml\n",
      "Image:C:\\Users\\Alan\\Documents\\repos\\Tensorflow Object Detection\\TFODCourse\\Tensorflow\\workspace\\images\\collectedimages\\thankyou\\thankyou.fdcad4d0-f4c9-11ed-99bf-18c04d2fcbb0.jpg -> Annotation:C:/Users/Alan/Documents/repos/Tensorflow Object Detection/TFODCourse/Tensorflow/workspace/images/collectedimages/thankyou\\thankyou.fdcad4d0-f4c9-11ed-99bf-18c04d2fcbb0.xml\n",
      "Image:C:\\Users\\Alan\\Documents\\repos\\Tensorflow Object Detection\\TFODCourse\\Tensorflow\\workspace\\images\\collectedimages\\thankyou\\thankyou.ff00438a-f4c9-11ed-b0ae-18c04d2fcbb0.jpg -> Annotation:C:/Users/Alan/Documents/repos/Tensorflow Object Detection/TFODCourse/Tensorflow/workspace/images/collectedimages/thankyou\\thankyou.ff00438a-f4c9-11ed-b0ae-18c04d2fcbb0.xml\n",
      "Image:C:\\Users\\Alan\\Documents\\repos\\Tensorflow Object Detection\\TFODCourse\\Tensorflow\\workspace\\images\\collectedimages\\thumbsdown\\thumbsdown.ec84b311-f4c9-11ed-ab2b-18c04d2fcbb0.jpg -> Annotation:C:/Users/Alan/Documents/repos/Tensorflow Object Detection/TFODCourse/Tensorflow/workspace/images/collectedimages/thumbsdown\\thumbsdown.ec84b311-f4c9-11ed-ab2b-18c04d2fcbb0.xml\n",
      "Image:C:\\Users\\Alan\\Documents\\repos\\Tensorflow Object Detection\\TFODCourse\\Tensorflow\\workspace\\images\\collectedimages\\thumbsdown\\thumbsdown.edbb0e15-f4c9-11ed-9a1d-18c04d2fcbb0.jpg -> Annotation:C:/Users/Alan/Documents/repos/Tensorflow Object Detection/TFODCourse/Tensorflow/workspace/images/collectedimages/thumbsdown\\thumbsdown.edbb0e15-f4c9-11ed-9a1d-18c04d2fcbb0.xml\n",
      "Image:C:\\Users\\Alan\\Documents\\repos\\Tensorflow Object Detection\\TFODCourse\\Tensorflow\\workspace\\images\\collectedimages\\thumbsdown\\thumbsdown.eef290ad-f4c9-11ed-8218-18c04d2fcbb0.jpg -> Annotation:C:/Users/Alan/Documents/repos/Tensorflow Object Detection/TFODCourse/Tensorflow/workspace/images/collectedimages/thumbsdown\\thumbsdown.eef290ad-f4c9-11ed-8218-18c04d2fcbb0.xml\n",
      "Image:C:\\Users\\Alan\\Documents\\repos\\Tensorflow Object Detection\\TFODCourse\\Tensorflow\\workspace\\images\\collectedimages\\thumbsdown\\thumbsdown.f02a53f7-f4c9-11ed-b292-18c04d2fcbb0.jpg -> Annotation:C:/Users/Alan/Documents/repos/Tensorflow Object Detection/TFODCourse/Tensorflow/workspace/images/collectedimages/thumbsdown\\thumbsdown.f02a53f7-f4c9-11ed-b292-18c04d2fcbb0.xml\n",
      "Image:C:\\Users\\Alan\\Documents\\repos\\Tensorflow Object Detection\\TFODCourse\\Tensorflow\\workspace\\images\\collectedimages\\thumbsdown\\thumbsdown.f1622ba1-f4c9-11ed-949e-18c04d2fcbb0.jpg -> Annotation:C:/Users/Alan/Documents/repos/Tensorflow Object Detection/TFODCourse/Tensorflow/workspace/images/collectedimages/thumbsdown\\thumbsdown.f1622ba1-f4c9-11ed-949e-18c04d2fcbb0.xml\n",
      "Image:C:\\Users\\Alan\\Documents\\repos\\Tensorflow Object Detection\\TFODCourse\\Tensorflow\\workspace\\images\\collectedimages\\thumbsup\\thumbsup.41face7e-f4ca-11ed-9a3c-18c04d2fcbb0.jpg -> Annotation:C:/Users/Alan/Documents/repos/Tensorflow Object Detection/TFODCourse/Tensorflow/workspace/images/collectedimages/thumbsup\\thumbsup.41face7e-f4ca-11ed-9a3c-18c04d2fcbb0.xml\n",
      "Image:C:\\Users\\Alan\\Documents\\repos\\Tensorflow Object Detection\\TFODCourse\\Tensorflow\\workspace\\images\\collectedimages\\thumbsup\\thumbsup.46d0445d-f4ca-11ed-a037-18c04d2fcbb0.jpg -> Annotation:C:/Users/Alan/Documents/repos/Tensorflow Object Detection/TFODCourse/Tensorflow/workspace/images/collectedimages/thumbsup\\thumbsup.46d0445d-f4ca-11ed-a037-18c04d2fcbb0.xml\n",
      "Image:C:\\Users\\Alan\\Documents\\repos\\Tensorflow Object Detection\\TFODCourse\\Tensorflow\\workspace\\images\\collectedimages\\thumbsup\\thumbsup.ddf6f4ee-f4c9-11ed-9d46-18c04d2fcbb0.jpg -> Annotation:C:/Users/Alan/Documents/repos/Tensorflow Object Detection/TFODCourse/Tensorflow/workspace/images/collectedimages/thumbsup\\thumbsup.ddf6f4ee-f4c9-11ed-9d46-18c04d2fcbb0.xml\n",
      "Image:C:\\Users\\Alan\\Documents\\repos\\Tensorflow Object Detection\\TFODCourse\\Tensorflow\\workspace\\images\\collectedimages\\thumbsup\\thumbsup.df2d6aec-f4c9-11ed-8bc1-18c04d2fcbb0.jpg -> Annotation:C:/Users/Alan/Documents/repos/Tensorflow Object Detection/TFODCourse/Tensorflow/workspace/images/collectedimages/thumbsup\\thumbsup.df2d6aec-f4c9-11ed-8bc1-18c04d2fcbb0.xml\n",
      "Image:C:\\Users\\Alan\\Documents\\repos\\Tensorflow Object Detection\\TFODCourse\\Tensorflow\\workspace\\images\\collectedimages\\thumbsup\\thumbsup.e2d376b5-f4c9-11ed-9dcb-18c04d2fcbb0.jpg -> Annotation:C:/Users/Alan/Documents/repos/Tensorflow Object Detection/TFODCourse/Tensorflow/workspace/images/collectedimages/thumbsup\\thumbsup.e2d376b5-f4c9-11ed-9dcb-18c04d2fcbb0.xml\n"
     ]
    }
   ],
   "source": [
    "!cd {LABELIMG_PATH} && python labelImg.py"
   ]
  },
  {
   "cell_type": "markdown",
   "metadata": {},
   "source": [
    "# 6. Move them into a Training and Testing Partition"
   ]
  },
  {
   "cell_type": "markdown",
   "metadata": {},
   "source": [
    "# OPTIONAL - 7. Compress them for Colab Training"
   ]
  },
  {
   "cell_type": "code",
   "execution_count": 20,
   "metadata": {},
   "outputs": [],
   "source": [
    "TRAIN_PATH = os.path.join('Tensorflow', 'workspace', 'images', 'train')\n",
    "TEST_PATH = os.path.join('Tensorflow', 'workspace', 'images', 'test')\n",
    "ARCHIVE_PATH = os.path.join('Tensorflow', 'workspace', 'images', 'archive.tar.gz')"
   ]
  },
  {
   "cell_type": "code",
   "execution_count": 21,
   "metadata": {},
   "outputs": [],
   "source": [
    "!tar -czf {ARCHIVE_PATH} {TRAIN_PATH} {TEST_PATH}"
   ]
  },
  {
   "cell_type": "code",
   "execution_count": null,
   "metadata": {},
   "outputs": [],
   "source": []
  },
  {
   "cell_type": "markdown",
   "metadata": {},
   "source": [
    "# Compiled Code"
   ]
  },
  {
   "cell_type": "code",
   "execution_count": null,
   "metadata": {},
   "outputs": [],
   "source": [
    "!pip install opencv-python\n",
    "!pip install --upgrade pyqt5 lxml\n",
    "\n",
    "import cv2 as cv\n",
    "import uuid\n",
    "import os\n",
    "import time\n",
    "\n",
    "# Define images to collect\n",
    "labels = ['thumbsup','thumbsdown', 'thankyou', 'livelong']\n",
    "number_imgs = 5\n",
    "\n",
    "# Setup folders\n",
    "IMAGES_PATH = os.path.join('tensorflow', 'workspace', 'images', 'collectedimages')\n",
    "\n",
    "if not os.path.exists(IMAGES_PATH):\n",
    "    if os.name == 'posix':\n",
    "        !mkdir -p {IMAGES_PATH}\n",
    "    if os.name == 'nt':\n",
    "        !mkdir {IMAGES_PATH}\n",
    "for label in labels:\n",
    "    path = os.path.join(IMAGES_PATH, label)\n",
    "    if not os.path.exists(path):\n",
    "        !mkdir {path}\n",
    "\n",
    "# Capture images\n",
    "for label in labels:\n",
    "    cap = cv.VideoCapture(0)\n",
    "    print('Collecting images for {}'.format(label))\n",
    "    time.sleep(5)\n",
    "    for imgNum in range(number_imgs):\n",
    "        print('Collecting image {}'.format(imgNum))\n",
    "        ret, frame = cap.read()\n",
    "        imgName = os.path.join(IMAGES_PATH,label,label+'.'+'{}.jpg'.format(str(uuid.uuid1())))\n",
    "        cv.imwrite(imgName, frame)\n",
    "        cv.imshow('frame', frame)\n",
    "        time.sleep(2)\n",
    "        \n",
    "        ifcv.waitKey(q) & 0xFF == ord('q'):\n",
    "            break\n",
    "cap.release()\n",
    "cv.destroyAllWindows()\n",
    "\n",
    "# Image labelling\n",
    "LABELIMG_PATH = os.path.join('Tensorflow', 'labelimg')\n",
    "if not os.path.exists(LABELIMG_PATH):\n",
    "    !mkdir {LABELIMG_PATH}\n",
    "    !git clone https://github.com/tzutalin/labelImg {LABELIMG_PATH}\n",
    "if os.name == 'posix':\n",
    "    !cd {LABELIMG_PATH} && make qt5py3\n",
    "if os.name == 'nt':\n",
    "    !cd {LABELIMG_PATH} && pyrcc5 -o libs/resources.py resources.qrc\n",
    "!cd{LABELIMG_PATH} && python labelImg.py\n"
   ]
  }
 ],
 "metadata": {
  "kernelspec": {
   "display_name": "tfod",
   "language": "python",
   "name": "tfod"
  },
  "language_info": {
   "codemirror_mode": {
    "name": "ipython",
    "version": 3
   },
   "file_extension": ".py",
   "mimetype": "text/x-python",
   "name": "python",
   "nbconvert_exporter": "python",
   "pygments_lexer": "ipython3",
   "version": "3.10.9"
  }
 },
 "nbformat": 4,
 "nbformat_minor": 2
}
